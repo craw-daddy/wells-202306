{
 "cells": [
  {
   "cell_type": "code",
   "execution_count": 1,
   "id": "3990bcae",
   "metadata": {},
   "outputs": [],
   "source": [
    "from database import query_db"
   ]
  },
  {
   "cell_type": "code",
   "execution_count": 2,
   "id": "e40410f3",
   "metadata": {},
   "outputs": [],
   "source": [
    "results = query_db(1500, 0.1)"
   ]
  },
  {
   "cell_type": "code",
   "execution_count": 3,
   "id": "cda17d95",
   "metadata": {},
   "outputs": [
    {
     "data": {
      "text/plain": [
       "[(35.8760489, -106.5867907, 2525.0, 0.12792079207920792),\n",
       " (35.8932486, -106.5775905, 1650.0, 0.14545454545454545),\n",
       " (38.8390192, -122.8401934, 1877.0, 0.11176966792754396),\n",
       " (35.8867487, -106.5825906, 1570.0, 0.16114649681528662),\n",
       " (38.5119632, -112.8622972, 1892.0, 0.12949260042283298),\n",
       " (35.8947486, -106.5735904, 1753.3, 0.14315861518279815),\n",
       " (43.7348305, -121.2931164, 2927.0, 0.11069354287666552),\n",
       " (43.7398305, -121.2931165, 2805.0, 0.10588235294117647),\n",
       " (33.2133599, -115.5858185, 3220.0, 0.10403726708074534),\n",
       " (35.8958486, -106.5665902, 2508.0, 0.11323763955342903),\n",
       " (35.9068481, -106.6172918, 1762.0, 0.15607264472190693),\n",
       " (38.905677, -122.7758761, 3048.0, 0.10006561679790026),\n",
       " (35.9020485, -106.5663903, 2134.0, 0.12886597938144329),\n",
       " (35.8945486, -106.5735904, 2112.0, 0.13589015151515152),\n",
       " (35.8870487, -106.5825906, 1825.6, 0.14022787028921999),\n",
       " (35.8795489, -106.5765904, 2125.9, 0.10865986170563055),\n",
       " (35.8892487, -106.5728903, 1798.0, 0.13959955506117908),\n",
       " (35.8895487, -106.5685902, 1944.0, 0.1440329218106996),\n",
       " (35.8965485, -106.5735904, 1798.0, 0.11790878754171301),\n",
       " (38.8483523, -122.8480688, 2151.0, 0.10471873547187355),\n",
       " (35.9403476, -106.5907913, 1687.0, 0.13040901007705988),\n",
       " (35.8933486, -106.5775905, 1668.3, 0.15704609482706947),\n",
       " (38.4932637, -112.8429964, 1862.0, 0.13319011815252416),\n",
       " (38.4777638, -112.8609968, 1631.0, 0.13979153893316984),\n",
       " (39.789596, -119.0141876, 1543.3, 0.12455128620488563)]"
      ]
     },
     "execution_count": 3,
     "metadata": {},
     "output_type": "execute_result"
    }
   ],
   "source": [
    "results"
   ]
  },
  {
   "cell_type": "code",
   "execution_count": 22,
   "id": "e01ff855",
   "metadata": {},
   "outputs": [],
   "source": [
    "from vega_datasets import data\n",
    "import altair as alt\n",
    "import pandas as pd"
   ]
  },
  {
   "cell_type": "code",
   "execution_count": 7,
   "id": "bb95360f",
   "metadata": {},
   "outputs": [],
   "source": [
    "states = alt.topo_feature(data.us_10m.url, feature='states')"
   ]
  },
  {
   "cell_type": "code",
   "execution_count": 9,
   "id": "7addbdbe",
   "metadata": {},
   "outputs": [
    {
     "data": {
      "text/plain": [
       "UrlData({\n",
       "  format: TopoDataFormat({\n",
       "    feature: 'states',\n",
       "    type: 'topojson'\n",
       "  }),\n",
       "  url: 'https://cdn.jsdelivr.net/npm/vega-datasets@v1.29.0/data/us-10m.json'\n",
       "})"
      ]
     },
     "execution_count": 9,
     "metadata": {},
     "output_type": "execute_result"
    }
   ],
   "source": [
    "states"
   ]
  },
  {
   "cell_type": "code",
   "execution_count": 33,
   "id": "ac45a3db",
   "metadata": {},
   "outputs": [],
   "source": [
    "def plot_wells(well_coords):\n",
    "    #  Create the US map\n",
    "    states = alt.topo_feature(data.us_10m.url, feature='states')\n",
    "    USmap = (alt.Chart(states)\n",
    "             .mark_geoshape(fill='lightgray', stroke='white')\n",
    "             .project('albersUsa')\n",
    "             .properties(width=600, height=400)\n",
    "            )\n",
    "    \n",
    "    #  Add the wells information to map\n",
    "    columns = ['latitude', 'longitude', 'depth', 'gradient']\n",
    "    well_coords = pd.DataFrame(well_coords, columns=columns)\n",
    "    well_coordinates = (alt.Chart(well_coords)\n",
    "                        .mark_circle()\n",
    "                        .encode(latitude='latitude',\n",
    "                                longitude='longitude',\n",
    "                                color=alt.Color('gradient', title='Gradient',\n",
    "                                               scale=alt.Scale(scheme='inferno')),\n",
    "                                tooltip=[alt.Tooltip('depth', title='Depth (m)'), \n",
    "                                         alt.Tooltip('gradient', title='Gradient (°C/m)',\n",
    "                                                    format='0.2f')])\n",
    "                       )\n",
    "    \n",
    "    return USmap + well_coordinates"
   ]
  },
  {
   "cell_type": "code",
   "execution_count": 34,
   "id": "b6088d08",
   "metadata": {},
   "outputs": [
    {
     "data": {
      "text/html": [
       "\n",
       "<style>\n",
       "  #altair-viz-a0b5b026981b4b9c91e2db1243593810.vega-embed {\n",
       "    width: 100%;\n",
       "    display: flex;\n",
       "  }\n",
       "\n",
       "  #altair-viz-a0b5b026981b4b9c91e2db1243593810.vega-embed details,\n",
       "  #altair-viz-a0b5b026981b4b9c91e2db1243593810.vega-embed details summary {\n",
       "    position: relative;\n",
       "  }\n",
       "</style>\n",
       "<div id=\"altair-viz-a0b5b026981b4b9c91e2db1243593810\"></div>\n",
       "<script type=\"text/javascript\">\n",
       "  var VEGA_DEBUG = (typeof VEGA_DEBUG == \"undefined\") ? {} : VEGA_DEBUG;\n",
       "  (function(spec, embedOpt){\n",
       "    let outputDiv = document.currentScript.previousElementSibling;\n",
       "    if (outputDiv.id !== \"altair-viz-a0b5b026981b4b9c91e2db1243593810\") {\n",
       "      outputDiv = document.getElementById(\"altair-viz-a0b5b026981b4b9c91e2db1243593810\");\n",
       "    }\n",
       "    const paths = {\n",
       "      \"vega\": \"https://cdn.jsdelivr.net/npm/vega@5?noext\",\n",
       "      \"vega-lib\": \"https://cdn.jsdelivr.net/npm/vega-lib?noext\",\n",
       "      \"vega-lite\": \"https://cdn.jsdelivr.net/npm/vega-lite@5.8.0?noext\",\n",
       "      \"vega-embed\": \"https://cdn.jsdelivr.net/npm/vega-embed@6?noext\",\n",
       "    };\n",
       "\n",
       "    function maybeLoadScript(lib, version) {\n",
       "      var key = `${lib.replace(\"-\", \"\")}_version`;\n",
       "      return (VEGA_DEBUG[key] == version) ?\n",
       "        Promise.resolve(paths[lib]) :\n",
       "        new Promise(function(resolve, reject) {\n",
       "          var s = document.createElement('script');\n",
       "          document.getElementsByTagName(\"head\")[0].appendChild(s);\n",
       "          s.async = true;\n",
       "          s.onload = () => {\n",
       "            VEGA_DEBUG[key] = version;\n",
       "            return resolve(paths[lib]);\n",
       "          };\n",
       "          s.onerror = () => reject(`Error loading script: ${paths[lib]}`);\n",
       "          s.src = paths[lib];\n",
       "        });\n",
       "    }\n",
       "\n",
       "    function showError(err) {\n",
       "      outputDiv.innerHTML = `<div class=\"error\" style=\"color:red;\">${err}</div>`;\n",
       "      throw err;\n",
       "    }\n",
       "\n",
       "    function displayChart(vegaEmbed) {\n",
       "      vegaEmbed(outputDiv, spec, embedOpt)\n",
       "        .catch(err => showError(`Javascript Error: ${err.message}<br>This usually means there's a typo in your chart specification. See the javascript console for the full traceback.`));\n",
       "    }\n",
       "\n",
       "    if(typeof define === \"function\" && define.amd) {\n",
       "      requirejs.config({paths});\n",
       "      require([\"vega-embed\"], displayChart, err => showError(`Error loading script: ${err.message}`));\n",
       "    } else {\n",
       "      maybeLoadScript(\"vega\", \"5\")\n",
       "        .then(() => maybeLoadScript(\"vega-lite\", \"5.8.0\"))\n",
       "        .then(() => maybeLoadScript(\"vega-embed\", \"6\"))\n",
       "        .catch(showError)\n",
       "        .then(() => displayChart(vegaEmbed));\n",
       "    }\n",
       "  })({\"config\": {\"view\": {\"continuousWidth\": 300, \"continuousHeight\": 300}}, \"layer\": [{\"data\": {\"url\": \"https://cdn.jsdelivr.net/npm/vega-datasets@v1.29.0/data/us-10m.json\", \"format\": {\"feature\": \"states\", \"type\": \"topojson\"}}, \"mark\": {\"type\": \"geoshape\", \"fill\": \"lightgray\", \"stroke\": \"white\"}, \"projection\": {\"type\": \"albersUsa\"}}, {\"data\": {\"name\": \"data-23a73d776c9ff285f2e2a2cec107d1c5\"}, \"mark\": {\"type\": \"circle\"}, \"encoding\": {\"color\": {\"field\": \"gradient\", \"scale\": {\"scheme\": \"inferno\"}, \"title\": \"Gradient\", \"type\": \"quantitative\"}, \"latitude\": {\"field\": \"latitude\", \"type\": \"quantitative\"}, \"longitude\": {\"field\": \"longitude\", \"type\": \"quantitative\"}, \"tooltip\": [{\"field\": \"depth\", \"title\": \"Depth (m)\", \"type\": \"quantitative\"}, {\"field\": \"gradient\", \"format\": \"0.2f\", \"title\": \"Gradient (\\u00b0C/m)\", \"type\": \"quantitative\"}]}}], \"height\": 400, \"width\": 600, \"$schema\": \"https://vega.github.io/schema/vega-lite/v5.8.0.json\", \"datasets\": {\"data-23a73d776c9ff285f2e2a2cec107d1c5\": [{\"latitude\": 35.8760489, \"longitude\": -106.5867907, \"depth\": 2525.0, \"gradient\": 0.12792079207920792}, {\"latitude\": 35.8932486, \"longitude\": -106.5775905, \"depth\": 1650.0, \"gradient\": 0.14545454545454545}, {\"latitude\": 38.8390192, \"longitude\": -122.8401934, \"depth\": 1877.0, \"gradient\": 0.11176966792754396}, {\"latitude\": 35.8867487, \"longitude\": -106.5825906, \"depth\": 1570.0, \"gradient\": 0.16114649681528662}, {\"latitude\": 38.5119632, \"longitude\": -112.8622972, \"depth\": 1892.0, \"gradient\": 0.12949260042283298}, {\"latitude\": 35.8947486, \"longitude\": -106.5735904, \"depth\": 1753.3, \"gradient\": 0.14315861518279815}, {\"latitude\": 43.7348305, \"longitude\": -121.2931164, \"depth\": 2927.0, \"gradient\": 0.11069354287666552}, {\"latitude\": 43.7398305, \"longitude\": -121.2931165, \"depth\": 2805.0, \"gradient\": 0.10588235294117647}, {\"latitude\": 33.2133599, \"longitude\": -115.5858185, \"depth\": 3220.0, \"gradient\": 0.10403726708074534}, {\"latitude\": 35.8958486, \"longitude\": -106.5665902, \"depth\": 2508.0, \"gradient\": 0.11323763955342903}, {\"latitude\": 35.9068481, \"longitude\": -106.6172918, \"depth\": 1762.0, \"gradient\": 0.15607264472190693}, {\"latitude\": 38.905677, \"longitude\": -122.7758761, \"depth\": 3048.0, \"gradient\": 0.10006561679790026}, {\"latitude\": 35.9020485, \"longitude\": -106.5663903, \"depth\": 2134.0, \"gradient\": 0.12886597938144329}, {\"latitude\": 35.8945486, \"longitude\": -106.5735904, \"depth\": 2112.0, \"gradient\": 0.13589015151515152}, {\"latitude\": 35.8870487, \"longitude\": -106.5825906, \"depth\": 1825.6, \"gradient\": 0.14022787028921999}, {\"latitude\": 35.8795489, \"longitude\": -106.5765904, \"depth\": 2125.9, \"gradient\": 0.10865986170563055}, {\"latitude\": 35.8892487, \"longitude\": -106.5728903, \"depth\": 1798.0, \"gradient\": 0.13959955506117908}, {\"latitude\": 35.8895487, \"longitude\": -106.5685902, \"depth\": 1944.0, \"gradient\": 0.1440329218106996}, {\"latitude\": 35.8965485, \"longitude\": -106.5735904, \"depth\": 1798.0, \"gradient\": 0.11790878754171301}, {\"latitude\": 38.8483523, \"longitude\": -122.8480688, \"depth\": 2151.0, \"gradient\": 0.10471873547187355}, {\"latitude\": 35.9403476, \"longitude\": -106.5907913, \"depth\": 1687.0, \"gradient\": 0.13040901007705988}, {\"latitude\": 35.8933486, \"longitude\": -106.5775905, \"depth\": 1668.3, \"gradient\": 0.15704609482706947}, {\"latitude\": 38.4932637, \"longitude\": -112.8429964, \"depth\": 1862.0, \"gradient\": 0.13319011815252416}, {\"latitude\": 38.4777638, \"longitude\": -112.8609968, \"depth\": 1631.0, \"gradient\": 0.13979153893316984}, {\"latitude\": 39.789596, \"longitude\": -119.0141876, \"depth\": 1543.3, \"gradient\": 0.12455128620488563}]}}, {\"mode\": \"vega-lite\"});\n",
       "</script>"
      ],
      "text/plain": [
       "alt.LayerChart(...)"
      ]
     },
     "execution_count": 34,
     "metadata": {},
     "output_type": "execute_result"
    }
   ],
   "source": [
    "plot_wells(results)"
   ]
  },
  {
   "cell_type": "code",
   "execution_count": null,
   "id": "e1894a91",
   "metadata": {},
   "outputs": [],
   "source": []
  }
 ],
 "metadata": {
  "kernelspec": {
   "display_name": "Wells-project",
   "language": "python",
   "name": "wells-project"
  },
  "language_info": {
   "codemirror_mode": {
    "name": "ipython",
    "version": 3
   },
   "file_extension": ".py",
   "mimetype": "text/x-python",
   "name": "python",
   "nbconvert_exporter": "python",
   "pygments_lexer": "ipython3",
   "version": "3.10.8"
  }
 },
 "nbformat": 4,
 "nbformat_minor": 5
}
